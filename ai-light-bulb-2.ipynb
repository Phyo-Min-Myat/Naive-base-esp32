{
 "cells": [
  {
   "cell_type": "markdown",
   "metadata": {},
   "source": [
    "# Data Preprocessing"
   ]
  },
  {
   "cell_type": "code",
   "execution_count": 1,
   "metadata": {},
   "outputs": [
    {
     "data": {
      "text/html": [
       "<div>\n",
       "<style scoped>\n",
       "    .dataframe tbody tr th:only-of-type {\n",
       "        vertical-align: middle;\n",
       "    }\n",
       "\n",
       "    .dataframe tbody tr th {\n",
       "        vertical-align: top;\n",
       "    }\n",
       "\n",
       "    .dataframe thead th {\n",
       "        text-align: right;\n",
       "    }\n",
       "</style>\n",
       "<table border=\"1\" class=\"dataframe\">\n",
       "  <thead>\n",
       "    <tr style=\"text-align: right;\">\n",
       "      <th></th>\n",
       "      <th>Light Sensor</th>\n",
       "      <th>Time</th>\n",
       "      <th>Light State</th>\n",
       "    </tr>\n",
       "  </thead>\n",
       "  <tbody>\n",
       "    <tr>\n",
       "      <th>0</th>\n",
       "      <td>0.0</td>\n",
       "      <td>00:00</td>\n",
       "      <td>Off</td>\n",
       "    </tr>\n",
       "    <tr>\n",
       "      <th>1</th>\n",
       "      <td>0.0</td>\n",
       "      <td>01:00</td>\n",
       "      <td>Off</td>\n",
       "    </tr>\n",
       "    <tr>\n",
       "      <th>2</th>\n",
       "      <td>0.0</td>\n",
       "      <td>02:00</td>\n",
       "      <td>Off</td>\n",
       "    </tr>\n",
       "    <tr>\n",
       "      <th>3</th>\n",
       "      <td>0.0</td>\n",
       "      <td>03:00</td>\n",
       "      <td>Off</td>\n",
       "    </tr>\n",
       "    <tr>\n",
       "      <th>4</th>\n",
       "      <td>0.0</td>\n",
       "      <td>04:00</td>\n",
       "      <td>Off</td>\n",
       "    </tr>\n",
       "  </tbody>\n",
       "</table>\n",
       "</div>"
      ],
      "text/plain": [
       "   Light Sensor   Time Light State\n",
       "0           0.0  00:00         Off\n",
       "1           0.0  01:00         Off\n",
       "2           0.0  02:00         Off\n",
       "3           0.0  03:00         Off\n",
       "4           0.0  04:00         Off"
      ]
     },
     "execution_count": 1,
     "metadata": {},
     "output_type": "execute_result"
    }
   ],
   "source": [
    "# Step 1: Read the dataset\n",
    "import pandas as pd\n",
    "df = pd.read_csv(\"ai-light-bulb-dataset.csv\")\n",
    "df.head()"
   ]
  },
  {
   "cell_type": "code",
   "execution_count": 6,
   "metadata": {},
   "outputs": [
    {
     "data": {
      "text/html": [
       "<div>\n",
       "<style scoped>\n",
       "    .dataframe tbody tr th:only-of-type {\n",
       "        vertical-align: middle;\n",
       "    }\n",
       "\n",
       "    .dataframe tbody tr th {\n",
       "        vertical-align: top;\n",
       "    }\n",
       "\n",
       "    .dataframe thead th {\n",
       "        text-align: right;\n",
       "    }\n",
       "</style>\n",
       "<table border=\"1\" class=\"dataframe\">\n",
       "  <thead>\n",
       "    <tr style=\"text-align: right;\">\n",
       "      <th></th>\n",
       "      <th>Light Sensor</th>\n",
       "      <th>Time</th>\n",
       "      <th>Light State</th>\n",
       "    </tr>\n",
       "  </thead>\n",
       "  <tbody>\n",
       "    <tr>\n",
       "      <th>0</th>\n",
       "      <td>0</td>\n",
       "      <td>0</td>\n",
       "      <td>0</td>\n",
       "    </tr>\n",
       "    <tr>\n",
       "      <th>1</th>\n",
       "      <td>0</td>\n",
       "      <td>1</td>\n",
       "      <td>0</td>\n",
       "    </tr>\n",
       "    <tr>\n",
       "      <th>2</th>\n",
       "      <td>0</td>\n",
       "      <td>2</td>\n",
       "      <td>0</td>\n",
       "    </tr>\n",
       "    <tr>\n",
       "      <th>3</th>\n",
       "      <td>0</td>\n",
       "      <td>3</td>\n",
       "      <td>0</td>\n",
       "    </tr>\n",
       "    <tr>\n",
       "      <th>4</th>\n",
       "      <td>0</td>\n",
       "      <td>4</td>\n",
       "      <td>0</td>\n",
       "    </tr>\n",
       "    <tr>\n",
       "      <th>5</th>\n",
       "      <td>0</td>\n",
       "      <td>4</td>\n",
       "      <td>0</td>\n",
       "    </tr>\n",
       "    <tr>\n",
       "      <th>6</th>\n",
       "      <td>0</td>\n",
       "      <td>5</td>\n",
       "      <td>1</td>\n",
       "    </tr>\n",
       "    <tr>\n",
       "      <th>7</th>\n",
       "      <td>0</td>\n",
       "      <td>6</td>\n",
       "      <td>1</td>\n",
       "    </tr>\n",
       "    <tr>\n",
       "      <th>8</th>\n",
       "      <td>1</td>\n",
       "      <td>7</td>\n",
       "      <td>1</td>\n",
       "    </tr>\n",
       "    <tr>\n",
       "      <th>9</th>\n",
       "      <td>1</td>\n",
       "      <td>8</td>\n",
       "      <td>0</td>\n",
       "    </tr>\n",
       "  </tbody>\n",
       "</table>\n",
       "</div>"
      ],
      "text/plain": [
       "   Light Sensor  Time  Light State\n",
       "0             0     0            0\n",
       "1             0     1            0\n",
       "2             0     2            0\n",
       "3             0     3            0\n",
       "4             0     4            0\n",
       "5             0     4            0\n",
       "6             0     5            1\n",
       "7             0     6            1\n",
       "8             1     7            1\n",
       "9             1     8            0"
      ]
     },
     "execution_count": 6,
     "metadata": {},
     "output_type": "execute_result"
    }
   ],
   "source": [
    "# Step 2: Data preprocessing\n",
    "df_tmp = df.copy()\n",
    "\n",
    "# Light senser : group light sensor value into 4 levels\n",
    "for i in range (len(df_tmp)):\n",
    "    if (df_tmp.loc[i, 'Light Sensor'] >= 0.0 and df_tmp.loc[i, 'Light Sensor'] <= 0.25):\n",
    "        df_tmp.loc[i, 'Light Sensor'] = 0\n",
    "    elif (df_tmp.loc[i, 'Light Sensor'] >= 0.26 and df_tmp.loc[i, 'Light Sensor'] <= 0.50):\n",
    "        df_tmp.loc[i, 'Light Sensor'] = 1\n",
    "    elif (df_tmp.loc[i, 'Light Sensor'] >= 0.51 and df_tmp.loc[i, 'Light Sensor'] <= 0.75):\n",
    "        df_tmp.loc[i, 'Light Sensor'] = 2\n",
    "    elif (df_tmp.loc[i, 'Light Sensor'] >= 0.76 and df_tmp.loc[i, 'Light Sensor'] <= 1.0):\n",
    "        df_tmp.loc[i, 'Light Sensor'] = 3\n",
    "df_tmp['Light Sensor'] = df_tmp['Light Sensor'].astype('int64')  # convert float64 to int64\n",
    "\n",
    "# Time : get just the hour of the time\n",
    "df_tmp['Time'] = pd.to_datetime(df_tmp['Time'], format='%H:%M').dt.hour\n",
    "\n",
    "# Light state : encode 'Off' to 0 and 'On' to 1\n",
    "df_tmp.replace({'Light State': {'Off': 0, 'On':1}}, inplace=True)\n",
    "\n",
    "df_tmp.head(n=10)\n",
    "    "
   ]
  },
  {
   "cell_type": "code",
   "execution_count": 7,
   "metadata": {},
   "outputs": [
    {
     "name": "stdout",
     "output_type": "stream",
     "text": [
      "[[ 0  0  0]\n",
      " [ 0  1  0]\n",
      " [ 0  2  0]\n",
      " [ 0  3  0]\n",
      " [ 0  4  0]\n",
      " [ 0  4  0]\n",
      " [ 0  5  1]\n",
      " [ 0  6  1]\n",
      " [ 1  7  1]\n",
      " [ 1  8  0]\n",
      " [ 0  8  1]\n",
      " [ 1  9  0]\n",
      " [ 1  9  1]\n",
      " [ 2 10  0]\n",
      " [ 2 11  0]\n",
      " [ 3 12  0]\n",
      " [ 3 12  0]\n",
      " [ 1 12  1]\n",
      " [ 3 13  0]\n",
      " [ 3 13  0]\n",
      " [ 3 14  0]\n",
      " [ 1 14  1]\n",
      " [ 2 15  0]\n",
      " [ 0 15  1]\n",
      " [ 2 16  0]\n",
      " [ 2 17  0]\n",
      " [ 0 17  1]\n",
      " [ 1 18  0]\n",
      " [ 1 18  1]\n",
      " [ 1 19  0]\n",
      " [ 0 19  1]\n",
      " [ 0 20  1]\n",
      " [ 0 20  1]\n",
      " [ 0 21  1]\n",
      " [ 0 21  1]\n",
      " [ 0 22  1]\n",
      " [ 0 23  1]]\n"
     ]
    }
   ],
   "source": [
    "# Step 3 : convert pandas data frame to nupy array\n",
    "df_np = df_tmp.to_numpy()\n",
    "print(df_np)\n",
    "# split the data into features and label\n",
    "X = df_np[:, 0:2] # feature\n",
    "y = df_np[:, 2] # label"
   ]
  },
  {
   "cell_type": "markdown",
   "metadata": {},
   "source": [
    "# Create Frequency Table"
   ]
  },
  {
   "cell_type": "code",
   "execution_count": 10,
   "metadata": {},
   "outputs": [
    {
     "name": "stdout",
     "output_type": "stream",
     "text": [
      "[[ 6. 12.]\n",
      " [ 4.  5.]\n",
      " [ 5.  0.]\n",
      " [ 5.  0.]]\n"
     ]
    }
   ],
   "source": [
    "# Step 4 : create frequency table for feature light sensor\n",
    "import numpy as np\n",
    "freq_table_lsensor = np.zeros((4,2))\n",
    "for i in range(len(y)):\n",
    "    freq_table_lsensor[X[i,0], y[i]] += 1\n",
    "print(freq_table_lsensor)"
   ]
  },
  {
   "cell_type": "code",
   "execution_count": 12,
   "metadata": {},
   "outputs": [
    {
     "name": "stdout",
     "output_type": "stream",
     "text": [
      "[[1. 0.]\n",
      " [1. 0.]\n",
      " [1. 0.]\n",
      " [1. 0.]\n",
      " [2. 0.]\n",
      " [0. 1.]\n",
      " [0. 1.]\n",
      " [0. 1.]\n",
      " [1. 1.]\n",
      " [1. 1.]\n",
      " [1. 0.]\n",
      " [1. 0.]\n",
      " [2. 1.]\n",
      " [2. 0.]\n",
      " [1. 1.]\n",
      " [1. 1.]\n",
      " [1. 0.]\n",
      " [1. 1.]\n",
      " [1. 1.]\n",
      " [1. 1.]\n",
      " [0. 2.]\n",
      " [0. 2.]\n",
      " [0. 1.]\n",
      " [0. 1.]]\n"
     ]
    }
   ],
   "source": [
    "# Step 5 : create frequency table for time\n",
    "freq_table_time = np.zeros((24,2))\n",
    "for i in range(len(y)):\n",
    "    freq_table_time[X[i,1], y[i]] += 1\n",
    "print(freq_table_time)"
   ]
  },
  {
   "cell_type": "markdown",
   "metadata": {},
   "source": [
    "# Calculate Prior Probability"
   ]
  },
  {
   "cell_type": "code",
   "execution_count": 15,
   "metadata": {},
   "outputs": [
    {
     "data": {
      "text/plain": [
       "0.5405405405405406"
      ]
     },
     "execution_count": 15,
     "metadata": {},
     "output_type": "execute_result"
    }
   ],
   "source": [
    "# Step 6 : create function for calculating label prior probability\n",
    "def label_prior_prob(light_state):\n",
    "    count = 0\n",
    "    for i in range(len(y)):\n",
    "        if (y[i] == light_state):\n",
    "            count += 1\n",
    "    prob = count/len(y)\n",
    "    return prob\n",
    "\n",
    "# test the function\n",
    "label_prior_prob(0) # probability of 'Off'"
   ]
  },
  {
   "cell_type": "markdown",
   "metadata": {},
   "source": [
    "# Calculate Likelihood"
   ]
  },
  {
   "cell_type": "code",
   "execution_count": 18,
   "metadata": {},
   "outputs": [
    {
     "data": {
      "text/plain": [
       "0.017045454545454544"
      ]
     },
     "execution_count": 18,
     "metadata": {},
     "output_type": "execute_result"
    }
   ],
   "source": [
    "# Step 7: create function for calculating likelihood\n",
    "def likelihood(light_sensor, time, light_state):\n",
    "    # calculate probability of light sensor = light_sensor given light state = light_state\n",
    "    prob_lsensor_lstate_lap = (freq_table_lsensor[light_sensor, light_state]+1) / (np.sum(freq_table_lsensor[:, light_state])+4*1)\n",
    "    # calculate probability of time = time given light state = light_state\n",
    "    prob_time_lstate_lap = (freq_table_time[time, light_state]+1) / (np.sum(freq_table_time[:, light_state])+24*1)\n",
    "    # calculate probability of light sensor = light_sensor and time = time given light state = light_state\n",
    "    prob_lsensor_time_lstate_lap = prob_lsensor_lstate_lap * prob_time_lstate_lap\n",
    "    return prob_lsensor_time_lstate_lap\n",
    "\n",
    "# test the function\n",
    "likelihood(2, 12, 0) # likelihood when the light sensor level 2 and time = 12:00 given light state 'Off'"
   ]
  },
  {
   "cell_type": "markdown",
   "metadata": {},
   "source": [
    "# Calculate Posterior Probability"
   ]
  },
  {
   "cell_type": "code",
   "execution_count": 19,
   "metadata": {},
   "outputs": [],
   "source": [
    "# Step 8 : create function for calculating posterior probability\n",
    "def posterior_prob(light_sensor, time, light_state):\n",
    "    prob = (likelihood(light_sensor, time, light_state) * label_prior_prob(light_state))\n",
    "    return prob"
   ]
  },
  {
   "cell_type": "code",
   "execution_count": 20,
   "metadata": {},
   "outputs": [
    {
     "name": "stdout",
     "output_type": "stream",
     "text": [
      "0.009213759213759214\n",
      "0.0010672693599522868\n"
     ]
    }
   ],
   "source": [
    "# Step 9: make prediction\n",
    "# probability when light state 'Off' given light sensor level 2 and time = 12:00\n",
    "print(posterior_prob(2, 12, 0))\n",
    "# probability when light state 'On' given light sensor level 2 and time = 12:00\n",
    "print(posterior_prob(2, 12, 1))"
   ]
  },
  {
   "cell_type": "markdown",
   "metadata": {},
   "source": [
    "# Generate C array of the Dataset"
   ]
  },
  {
   "cell_type": "code",
   "execution_count": 21,
   "metadata": {},
   "outputs": [
    {
     "name": "stdout",
     "output_type": "stream",
     "text": [
      "uint8_t X[37][2] = {{0, 0},{0, 1},{0, 2},{0, 3},{0, 4},{0, 4},{0, 5},{0, 6},{1, 7},{1, 8},{0, 8},{1, 9},{1, 9},{2, 10},{2, 11},{3, 12},{3, 12},{1, 12},{3, 13},{3, 13},{3, 14},{1, 14},{2, 15},{0, 15},{2, 16},{2, 17},{0, 17},{1, 18},{1, 18},{1, 19},{0, 19},{0, 20},{0, 20},{0, 21},{0, 21},{0, 22},{0, 23}}:\n"
     ]
    }
   ],
   "source": [
    "# Step 10 : print features as C array\n",
    "print(\"uint8_t X[%d][%d] = {\" %(np.shape(X)[0], np.shape(X)[1]), end='')\n",
    "for i in range(np.shape(X)[0]): # row\n",
    "    print(\"{\", end='')\n",
    "    for j in range(np.shape(X)[1]): # columns\n",
    "        if (j == (np.shape(X)[1]-1)):\n",
    "            print(\"%d\" %(X[i,j]), end='')\n",
    "        else:\n",
    "            print(\"%d, \"%(X[i,j]), end='')\n",
    "    if (i == (np.shape(X)[0]-1)):\n",
    "        print(\"}\", end='')\n",
    "    else:\n",
    "        print(\"},\", end='')\n",
    "print(\"}:\")"
   ]
  },
  {
   "cell_type": "code",
   "execution_count": 23,
   "metadata": {},
   "outputs": [
    {
     "name": "stdout",
     "output_type": "stream",
     "text": [
      "uint8_t y[37] = {0,0,0,0,0,0,1,1,1,0,1,0,1,0,0,0,0,1,0,0,0,1,0,1,0,0,1,0,1,0,1,1,1,1,1,1,1};\n"
     ]
    }
   ],
   "source": [
    "# Step 11 : print label as C array\n",
    "print(\"uint8_t y[%d] = {\" %(np.shape(y)[0]), end='')\n",
    "for i in range(np.shape(y)[0]):\n",
    "    if (i == (np.shape(y)[0]-1)):\n",
    "        print(\"%d\" %(y[i]), end='')\n",
    "    else:\n",
    "        print(\"%d,\" %(y[i]), end='')\n",
    "print(\"};\")"
   ]
  },
  {
   "cell_type": "code",
   "execution_count": null,
   "metadata": {},
   "outputs": [],
   "source": []
  }
 ],
 "metadata": {
  "kernelspec": {
   "display_name": "Python 3",
   "language": "python",
   "name": "python3"
  },
  "language_info": {
   "codemirror_mode": {
    "name": "ipython",
    "version": 3
   },
   "file_extension": ".py",
   "mimetype": "text/x-python",
   "name": "python",
   "nbconvert_exporter": "python",
   "pygments_lexer": "ipython3",
   "version": "3.8.5"
  }
 },
 "nbformat": 4,
 "nbformat_minor": 4
}
